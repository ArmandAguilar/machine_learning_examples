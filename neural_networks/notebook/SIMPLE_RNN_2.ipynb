{
  "cells": [
    {
      "cell_type": "code",
      "execution_count": 2,
      "metadata": {
        "id": "a81woYHQ4NEp"
      },
      "outputs": [],
      "source": [
        "import numpy as np\n",
        "from keras.models import Sequential\n",
        "from keras.layers import Conv2D, MaxPooling2D, Flatten, Dense\n",
        "from keras.utils import to_categorical\n",
        "from keras.datasets import mnist\n",
        "from keras.preprocessing import image\n",
        "import matplotlib.pyplot as plt"
      ]
    },
    {
      "cell_type": "code",
      "execution_count": 4,
      "metadata": {
        "colab": {
          "base_uri": "https://localhost:8080/"
        },
        "id": "5qb092Yi48c1",
        "outputId": "2cf1919f-5963-4c55-fcb1-f5263cd12b49"
      },
      "outputs": [
        {
          "name": "stdout",
          "output_type": "stream",
          "text": [
            "Shape of training data: (60000, 28, 28)\n"
          ]
        }
      ],
      "source": [
        "# Download the MNIST dataset\n",
        "(train_data, train_labels), (test_data, test_labels) = mnist.load_data()\n",
        "\n",
        "# Check the shape of the training data\n",
        "print(\"Shape of training data:\", train_data.shape)"
      ]
    },
    {
      "cell_type": "code",
      "execution_count": 5,
      "metadata": {
        "colab": {
          "base_uri": "https://localhost:8080/",
          "height": 452
        },
        "id": "jH_cuP_Y4_Qg",
        "outputId": "d8f8fd93-f00f-4074-8700-e9cf338686d5"
      },
      "outputs": [
        {
          "data": {
            "image/png": "[encoded data removed]",
            "text/plain": [
              "<Figure size 640x480 with 1 Axes>"
            ]
          },
          "metadata": {},
          "output_type": "display_data"
        }
      ],
      "source": [
        "# Plot an example image and label\n",
        "plt.imshow(train_data[55], cmap='gray')\n",
        "plt.title(\"Label: \" + str(train_labels[55]))\n",
        "plt.show()"
      ]
    },
    {
      "cell_type": "code",
      "execution_count": 6,
      "metadata": {
        "id": "tgVsMr8V5ENb"
      },
      "outputs": [],
      "source": [
        "# Normalize and reshape the data\n",
        "x_train = train_data.reshape((-1, 28, 28, 1)).astype('float32') / 255.0\n",
        "x_test = test_data.reshape((-1, 28, 28, 1)).astype('float32') / 255.0"
      ]
    },
    {
      "cell_type": "code",
      "execution_count": 7,
      "metadata": {
        "id": "FqHl96gR5G4U"
      },
      "outputs": [],
      "source": [
        "# One-hot encode the labels\n",
        "y_train = to_categorical(train_labels)\n",
        "y_test = to_categorical(test_labels)"
      ]
    },
    {
      "cell_type": "code",
      "execution_count": 8,
      "metadata": {
        "id": "VvmPQAkT5H3i"
      },
      "outputs": [],
      "source": [
        "# Create a CNN model\n",
        "model = Sequential()\n",
        "model.add(Conv2D(32, (3, 3), activation='relu', input_shape=(28, 28, 1)))\n",
        "model.add(MaxPooling2D((2, 2)))\n",
        "model.add(Conv2D(64, (3, 3), activation='relu'))\n",
        "model.add(MaxPooling2D((2, 2)))\n",
        "model.add(Conv2D(64, (3, 3), activation='relu'))\n",
        "model.add(Flatten())\n",
        "model.add(Dense(64, activation='relu'))\n",
        "model.add(Dense(10, activation='softmax'))"
      ]
    },
    {
      "cell_type": "code",
      "execution_count": 9,
      "metadata": {
        "id": "HCUfRigj5LpK"
      },
      "outputs": [],
      "source": [
        "# Compile the model\n",
        "model.compile(optimizer='adam', loss='categorical_crossentropy', metrics=['accuracy'])"
      ]
    },
    {
      "cell_type": "code",
      "execution_count": 10,
      "metadata": {
        "colab": {
          "base_uri": "https://localhost:8080/"
        },
        "id": "qu8_Qp2B5NlW",
        "outputId": "036aa4ca-dd36-40fb-f009-89551ccb4b6a"
      },
      "outputs": [
        {
          "name": "stdout",
          "output_type": "stream",
          "text": [
            "Epoch 1/5\n",
            "938/938 [==============================] - 11s 12ms/step - loss: 0.1818 - accuracy: 0.9454 - val_loss: 0.0510 - val_accuracy: 0.9837\n",
            "Epoch 2/5\n",
            "938/938 [==============================] - 11s 11ms/step - loss: 0.0542 - accuracy: 0.9830 - val_loss: 0.0337 - val_accuracy: 0.9900\n",
            "Epoch 3/5\n",
            "938/938 [==============================] - 11s 11ms/step - loss: 0.0362 - accuracy: 0.9887 - val_loss: 0.0308 - val_accuracy: 0.9897\n",
            "Epoch 4/5\n",
            "938/938 [==============================] - 11s 11ms/step - loss: 0.0291 - accuracy: 0.9910 - val_loss: 0.0341 - val_accuracy: 0.9892\n",
            "Epoch 5/5\n",
            "938/938 [==============================] - 10s 11ms/step - loss: 0.0232 - accuracy: 0.9927 - val_loss: 0.0287 - val_accuracy: 0.9909\n"
          ]
        },
        {
          "data": {
            "text/plain": [
              "<keras.src.callbacks.History at 0x17d63e6d0>"
            ]
          },
          "execution_count": 10,
          "metadata": {},
          "output_type": "execute_result"
        }
      ],
      "source": [
        "# Train the model\n",
        "model.fit(x_train, y_train, epochs=5, batch_size=64, validation_data=(x_test, y_test))"
      ]
    },
    {
      "cell_type": "code",
      "execution_count": 11,
      "metadata": {
        "colab": {
          "base_uri": "https://localhost:8080/"
        },
        "id": "KVdUIkki6FqE",
        "outputId": "e5eaf313-37a8-4b33-c7b5-78dec5cab7d6"
      },
      "outputs": [
        {
          "name": "stdout",
          "output_type": "stream",
          "text": [
            "313/313 [==============================] - 1s 3ms/step - loss: 0.0287 - accuracy: 0.9909\n",
            "Test accuracy: 0.9908999800682068\n"
          ]
        }
      ],
      "source": [
        "# Evaluate the model\n",
        "test_loss, test_accuracy = model.evaluate(x_test, y_test)\n",
        "print(\"Test accuracy:\", test_accuracy)"
      ]
    },
    {
      "cell_type": "code",
      "execution_count": 13,
      "metadata": {
        "colab": {
          "base_uri": "https://localhost:8080/"
        },
        "id": "UchCiWOa6OeD",
        "outputId": "541fccdf-489c-4024-d0d6-d0c77438648a"
      },
      "outputs": [
        {
          "name": "stdout",
          "output_type": "stream",
          "text": [
            "1/1 [==============================] - 0s 49ms/step\n"
          ]
        }
      ],
      "source": [
        "# Load a imgae\n",
        "img_path = '../data/numbers/5.jpg'  # Path of image in our HD\n",
        "img = image.load_img(img_path, target_size=(28, 28), color_mode='grayscale')\n",
        "\n",
        "\n",
        "#convert the img in a array with numpy and processing\n",
        "img_array = image.img_to_array(img)\n",
        "img_array = img_array / 255.0  # Normalize img\n",
        "img_array = img_array.reshape((1, 28, 28, 1))  # Re-shape the image\n",
        "\n",
        "# Make the prediction of image\n",
        "predictions = model.predict(img_array)"
      ]
    },
    {
      "cell_type": "code",
      "execution_count": 14,
      "metadata": {
        "colab": {
          "base_uri": "https://localhost:8080/",
          "height": 452
        },
        "id": "EnV0h4sf7osR",
        "outputId": "6fb84439-293c-4dae-962c-7da8481ea15a"
      },
      "outputs": [
        {
          "data": {
            "image/png": "[encoded data removed]",
            "text/plain": [
              "<Figure size 640x480 with 1 Axes>"
            ]
          },
          "metadata": {},
          "output_type": "display_data"
        }
      ],
      "source": [
        "# Check the image send it to RNN\n",
        "plt.imshow(img, cmap='gray')\n",
        "plt.title(\"Image Loaded\")\n",
        "plt.show()"
      ]
    },
    {
      "cell_type": "code",
      "execution_count": 15,
      "metadata": {
        "colab": {
          "base_uri": "https://localhost:8080/"
        },
        "id": "VuB7AFg06pr-",
        "outputId": "7ff13e71-41a3-45b9-ed5f-10c5096fdbcf"
      },
      "outputs": [
        {
          "name": "stdout",
          "output_type": "stream",
          "text": [
            "The number is: 5\n"
          ]
        }
      ],
      "source": [
        "# Get the prediction of RNN\n",
        "predicted_label = np.argmax(predictions)\n",
        "print(\"The number is: \" + str(predicted_label))"
      ]
    }
  ],
  "metadata": {
    "colab": {
      "provenance": []
    },
    "kernelspec": {
      "display_name": "Python 3",
      "name": "python3"
    },
    "language_info": {
      "codemirror_mode": {
        "name": "ipython",
        "version": 3
      },
      "file_extension": ".py",
      "mimetype": "text/x-python",
      "name": "python",
      "nbconvert_exporter": "python",
      "pygments_lexer": "ipython3",
      "version": "3.11.1"
    }
  },
  "nbformat": 4,
  "nbformat_minor": 0
}
